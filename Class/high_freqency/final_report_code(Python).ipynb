{
 "cells": [
  {
   "cell_type": "code",
   "execution_count": 4,
   "metadata": {},
   "outputs": [
    {
     "name": "stdout",
     "output_type": "stream",
     "text": [
      "[**                     4%                       ]  3 of 78 completed"
     ]
    },
    {
     "name": "stderr",
     "output_type": "stream",
     "text": [
      "C:\\anaconda\\lib\\site-packages\\yfinance\\utils.py:689: FutureWarning: The 'unit' keyword in TimedeltaIndex construction is deprecated and will be removed in a future version. Use pd.to_timedelta instead.\n",
      "  df.index += _pd.TimedeltaIndex(dst_error_hours, 'h')\n",
      "C:\\anaconda\\lib\\site-packages\\yfinance\\utils.py:689: FutureWarning: The 'unit' keyword in TimedeltaIndex construction is deprecated and will be removed in a future version. Use pd.to_timedelta instead.\n",
      "  df.index += _pd.TimedeltaIndex(dst_error_hours, 'h')\n",
      "C:\\anaconda\\lib\\site-packages\\yfinance\\utils.py:689: FutureWarning: The 'unit' keyword in TimedeltaIndex construction is deprecated and will be removed in a future version. Use pd.to_timedelta instead.\n",
      "  df.index += _pd.TimedeltaIndex(dst_error_hours, 'h')\n",
      "C:\\anaconda\\lib\\site-packages\\yfinance\\utils.py:689: FutureWarning: The 'unit' keyword in TimedeltaIndex construction is deprecated and will be removed in a future version. Use pd.to_timedelta instead.\n",
      "  df.index += _pd.TimedeltaIndex(dst_error_hours, 'h')\n"
     ]
    },
    {
     "name": "stdout",
     "output_type": "stream",
     "text": [
      "[****                   9%                       ]  7 of 78 completed"
     ]
    },
    {
     "name": "stderr",
     "output_type": "stream",
     "text": [
      "C:\\anaconda\\lib\\site-packages\\yfinance\\utils.py:689: FutureWarning: The 'unit' keyword in TimedeltaIndex construction is deprecated and will be removed in a future version. Use pd.to_timedelta instead.\n",
      "  df.index += _pd.TimedeltaIndex(dst_error_hours, 'h')\n",
      "C:\\anaconda\\lib\\site-packages\\yfinance\\utils.py:689: FutureWarning: The 'unit' keyword in TimedeltaIndex construction is deprecated and will be removed in a future version. Use pd.to_timedelta instead.\n",
      "  df.index += _pd.TimedeltaIndex(dst_error_hours, 'h')\n",
      "C:\\anaconda\\lib\\site-packages\\yfinance\\utils.py:689: FutureWarning: The 'unit' keyword in TimedeltaIndex construction is deprecated and will be removed in a future version. Use pd.to_timedelta instead.\n",
      "  df.index += _pd.TimedeltaIndex(dst_error_hours, 'h')\n",
      "C:\\anaconda\\lib\\site-packages\\yfinance\\utils.py:689: FutureWarning: The 'unit' keyword in TimedeltaIndex construction is deprecated and will be removed in a future version. Use pd.to_timedelta instead.\n",
      "  df.index += _pd.TimedeltaIndex(dst_error_hours, 'h')\n"
     ]
    },
    {
     "name": "stdout",
     "output_type": "stream",
     "text": [
      "[*******               14%                       ]  11 of 78 completed"
     ]
    },
    {
     "name": "stderr",
     "output_type": "stream",
     "text": [
      "C:\\anaconda\\lib\\site-packages\\yfinance\\utils.py:689: FutureWarning: The 'unit' keyword in TimedeltaIndex construction is deprecated and will be removed in a future version. Use pd.to_timedelta instead.\n",
      "  df.index += _pd.TimedeltaIndex(dst_error_hours, 'h')\n",
      "C:\\anaconda\\lib\\site-packages\\yfinance\\utils.py:689: FutureWarning: The 'unit' keyword in TimedeltaIndex construction is deprecated and will be removed in a future version. Use pd.to_timedelta instead.\n",
      "  df.index += _pd.TimedeltaIndex(dst_error_hours, 'h')\n",
      "C:\\anaconda\\lib\\site-packages\\yfinance\\utils.py:689: FutureWarning: The 'unit' keyword in TimedeltaIndex construction is deprecated and will be removed in a future version. Use pd.to_timedelta instead.\n",
      "  df.index += _pd.TimedeltaIndex(dst_error_hours, 'h')\n",
      "C:\\anaconda\\lib\\site-packages\\yfinance\\utils.py:689: FutureWarning: The 'unit' keyword in TimedeltaIndex construction is deprecated and will be removed in a future version. Use pd.to_timedelta instead.\n",
      "  df.index += _pd.TimedeltaIndex(dst_error_hours, 'h')\n"
     ]
    },
    {
     "name": "stdout",
     "output_type": "stream",
     "text": [
      "[*********             19%                       ]  15 of 78 completed"
     ]
    },
    {
     "name": "stderr",
     "output_type": "stream",
     "text": [
      "C:\\anaconda\\lib\\site-packages\\yfinance\\utils.py:689: FutureWarning: The 'unit' keyword in TimedeltaIndex construction is deprecated and will be removed in a future version. Use pd.to_timedelta instead.\n",
      "  df.index += _pd.TimedeltaIndex(dst_error_hours, 'h')\n",
      "C:\\anaconda\\lib\\site-packages\\yfinance\\utils.py:689: FutureWarning: The 'unit' keyword in TimedeltaIndex construction is deprecated and will be removed in a future version. Use pd.to_timedelta instead.\n",
      "  df.index += _pd.TimedeltaIndex(dst_error_hours, 'h')\n",
      "C:\\anaconda\\lib\\site-packages\\yfinance\\utils.py:689: FutureWarning: The 'unit' keyword in TimedeltaIndex construction is deprecated and will be removed in a future version. Use pd.to_timedelta instead.\n",
      "  df.index += _pd.TimedeltaIndex(dst_error_hours, 'h')\n",
      "C:\\anaconda\\lib\\site-packages\\yfinance\\utils.py:689: FutureWarning: The 'unit' keyword in TimedeltaIndex construction is deprecated and will be removed in a future version. Use pd.to_timedelta instead.\n",
      "  df.index += _pd.TimedeltaIndex(dst_error_hours, 'h')\n"
     ]
    },
    {
     "name": "stdout",
     "output_type": "stream",
     "text": [
      "[***********           23%                       ]  18 of 78 completed"
     ]
    },
    {
     "name": "stderr",
     "output_type": "stream",
     "text": [
      "C:\\anaconda\\lib\\site-packages\\yfinance\\utils.py:689: FutureWarning: The 'unit' keyword in TimedeltaIndex construction is deprecated and will be removed in a future version. Use pd.to_timedelta instead.\n",
      "  df.index += _pd.TimedeltaIndex(dst_error_hours, 'h')\n",
      "C:\\anaconda\\lib\\site-packages\\yfinance\\utils.py:689: FutureWarning: The 'unit' keyword in TimedeltaIndex construction is deprecated and will be removed in a future version. Use pd.to_timedelta instead.\n",
      "  df.index += _pd.TimedeltaIndex(dst_error_hours, 'h')\n",
      "C:\\anaconda\\lib\\site-packages\\yfinance\\utils.py:689: FutureWarning: The 'unit' keyword in TimedeltaIndex construction is deprecated and will be removed in a future version. Use pd.to_timedelta instead.\n",
      "  df.index += _pd.TimedeltaIndex(dst_error_hours, 'h')\n"
     ]
    },
    {
     "name": "stdout",
     "output_type": "stream",
     "text": [
      "[*************         27%                       ]  21 of 78 completed"
     ]
    },
    {
     "name": "stderr",
     "output_type": "stream",
     "text": [
      "C:\\anaconda\\lib\\site-packages\\yfinance\\utils.py:689: FutureWarning: The 'unit' keyword in TimedeltaIndex construction is deprecated and will be removed in a future version. Use pd.to_timedelta instead.\n",
      "  df.index += _pd.TimedeltaIndex(dst_error_hours, 'h')\n",
      "C:\\anaconda\\lib\\site-packages\\yfinance\\utils.py:689: FutureWarning: The 'unit' keyword in TimedeltaIndex construction is deprecated and will be removed in a future version. Use pd.to_timedelta instead.\n",
      "  df.index += _pd.TimedeltaIndex(dst_error_hours, 'h')\n",
      "C:\\anaconda\\lib\\site-packages\\yfinance\\utils.py:689: FutureWarning: The 'unit' keyword in TimedeltaIndex construction is deprecated and will be removed in a future version. Use pd.to_timedelta instead.\n",
      "  df.index += _pd.TimedeltaIndex(dst_error_hours, 'h')\n",
      "C:\\anaconda\\lib\\site-packages\\yfinance\\utils.py:689: FutureWarning: The 'unit' keyword in TimedeltaIndex construction is deprecated and will be removed in a future version. Use pd.to_timedelta instead.\n",
      "  df.index += _pd.TimedeltaIndex(dst_error_hours, 'h')\n"
     ]
    },
    {
     "name": "stdout",
     "output_type": "stream",
     "text": [
      "[****************      33%                       ]  26 of 78 completed"
     ]
    },
    {
     "name": "stderr",
     "output_type": "stream",
     "text": [
      "C:\\anaconda\\lib\\site-packages\\yfinance\\utils.py:689: FutureWarning: The 'unit' keyword in TimedeltaIndex construction is deprecated and will be removed in a future version. Use pd.to_timedelta instead.\n",
      "  df.index += _pd.TimedeltaIndex(dst_error_hours, 'h')\n",
      "C:\\anaconda\\lib\\site-packages\\yfinance\\utils.py:689: FutureWarning: The 'unit' keyword in TimedeltaIndex construction is deprecated and will be removed in a future version. Use pd.to_timedelta instead.\n",
      "  df.index += _pd.TimedeltaIndex(dst_error_hours, 'h')\n",
      "C:\\anaconda\\lib\\site-packages\\yfinance\\utils.py:689: FutureWarning: The 'unit' keyword in TimedeltaIndex construction is deprecated and will be removed in a future version. Use pd.to_timedelta instead.\n",
      "  df.index += _pd.TimedeltaIndex(dst_error_hours, 'h')\n",
      "C:\\anaconda\\lib\\site-packages\\yfinance\\utils.py:689: FutureWarning: The 'unit' keyword in TimedeltaIndex construction is deprecated and will be removed in a future version. Use pd.to_timedelta instead.\n",
      "  df.index += _pd.TimedeltaIndex(dst_error_hours, 'h')\n"
     ]
    },
    {
     "name": "stdout",
     "output_type": "stream",
     "text": [
      "[******************    38%                       ]  30 of 78 completed"
     ]
    },
    {
     "name": "stderr",
     "output_type": "stream",
     "text": [
      "C:\\anaconda\\lib\\site-packages\\yfinance\\utils.py:689: FutureWarning: The 'unit' keyword in TimedeltaIndex construction is deprecated and will be removed in a future version. Use pd.to_timedelta instead.\n",
      "  df.index += _pd.TimedeltaIndex(dst_error_hours, 'h')\n",
      "C:\\anaconda\\lib\\site-packages\\yfinance\\utils.py:689: FutureWarning: The 'unit' keyword in TimedeltaIndex construction is deprecated and will be removed in a future version. Use pd.to_timedelta instead.\n",
      "  df.index += _pd.TimedeltaIndex(dst_error_hours, 'h')\n",
      "C:\\anaconda\\lib\\site-packages\\yfinance\\utils.py:689: FutureWarning: The 'unit' keyword in TimedeltaIndex construction is deprecated and will be removed in a future version. Use pd.to_timedelta instead.\n",
      "  df.index += _pd.TimedeltaIndex(dst_error_hours, 'h')\n",
      "C:\\anaconda\\lib\\site-packages\\yfinance\\utils.py:689: FutureWarning: The 'unit' keyword in TimedeltaIndex construction is deprecated and will be removed in a future version. Use pd.to_timedelta instead.\n",
      "  df.index += _pd.TimedeltaIndex(dst_error_hours, 'h')\n"
     ]
    },
    {
     "name": "stdout",
     "output_type": "stream",
     "text": [
      "[********************  42%                       ]  33 of 78 completed"
     ]
    },
    {
     "name": "stderr",
     "output_type": "stream",
     "text": [
      "C:\\anaconda\\lib\\site-packages\\yfinance\\utils.py:689: FutureWarning: The 'unit' keyword in TimedeltaIndex construction is deprecated and will be removed in a future version. Use pd.to_timedelta instead.\n",
      "  df.index += _pd.TimedeltaIndex(dst_error_hours, 'h')\n",
      "C:\\anaconda\\lib\\site-packages\\yfinance\\utils.py:689: FutureWarning: The 'unit' keyword in TimedeltaIndex construction is deprecated and will be removed in a future version. Use pd.to_timedelta instead.\n",
      "  df.index += _pd.TimedeltaIndex(dst_error_hours, 'h')\n",
      "C:\\anaconda\\lib\\site-packages\\yfinance\\utils.py:689: FutureWarning: The 'unit' keyword in TimedeltaIndex construction is deprecated and will be removed in a future version. Use pd.to_timedelta instead.\n",
      "  df.index += _pd.TimedeltaIndex(dst_error_hours, 'h')\n",
      "C:\\anaconda\\lib\\site-packages\\yfinance\\utils.py:689: FutureWarning: The 'unit' keyword in TimedeltaIndex construction is deprecated and will be removed in a future version. Use pd.to_timedelta instead.\n",
      "  df.index += _pd.TimedeltaIndex(dst_error_hours, 'h')\n"
     ]
    },
    {
     "name": "stdout",
     "output_type": "stream",
     "text": [
      "[**********************49%                       ]  38 of 78 completed"
     ]
    },
    {
     "name": "stderr",
     "output_type": "stream",
     "text": [
      "C:\\anaconda\\lib\\site-packages\\yfinance\\utils.py:689: FutureWarning: The 'unit' keyword in TimedeltaIndex construction is deprecated and will be removed in a future version. Use pd.to_timedelta instead.\n",
      "  df.index += _pd.TimedeltaIndex(dst_error_hours, 'h')\n",
      "C:\\anaconda\\lib\\site-packages\\yfinance\\utils.py:689: FutureWarning: The 'unit' keyword in TimedeltaIndex construction is deprecated and will be removed in a future version. Use pd.to_timedelta instead.\n",
      "  df.index += _pd.TimedeltaIndex(dst_error_hours, 'h')\n",
      "C:\\anaconda\\lib\\site-packages\\yfinance\\utils.py:689: FutureWarning: The 'unit' keyword in TimedeltaIndex construction is deprecated and will be removed in a future version. Use pd.to_timedelta instead.\n",
      "  df.index += _pd.TimedeltaIndex(dst_error_hours, 'h')\n",
      "C:\\anaconda\\lib\\site-packages\\yfinance\\utils.py:689: FutureWarning: The 'unit' keyword in TimedeltaIndex construction is deprecated and will be removed in a future version. Use pd.to_timedelta instead.\n",
      "  df.index += _pd.TimedeltaIndex(dst_error_hours, 'h')\n"
     ]
    },
    {
     "name": "stdout",
     "output_type": "stream",
     "text": [
      "[**********************54%*                      ]  42 of 78 completed"
     ]
    },
    {
     "name": "stderr",
     "output_type": "stream",
     "text": [
      "C:\\anaconda\\lib\\site-packages\\yfinance\\utils.py:689: FutureWarning: The 'unit' keyword in TimedeltaIndex construction is deprecated and will be removed in a future version. Use pd.to_timedelta instead.\n",
      "  df.index += _pd.TimedeltaIndex(dst_error_hours, 'h')\n",
      "C:\\anaconda\\lib\\site-packages\\yfinance\\utils.py:689: FutureWarning: The 'unit' keyword in TimedeltaIndex construction is deprecated and will be removed in a future version. Use pd.to_timedelta instead.\n",
      "  df.index += _pd.TimedeltaIndex(dst_error_hours, 'h')\n",
      "C:\\anaconda\\lib\\site-packages\\yfinance\\utils.py:689: FutureWarning: The 'unit' keyword in TimedeltaIndex construction is deprecated and will be removed in a future version. Use pd.to_timedelta instead.\n",
      "  df.index += _pd.TimedeltaIndex(dst_error_hours, 'h')\n",
      "C:\\anaconda\\lib\\site-packages\\yfinance\\utils.py:689: FutureWarning: The 'unit' keyword in TimedeltaIndex construction is deprecated and will be removed in a future version. Use pd.to_timedelta instead.\n",
      "  df.index += _pd.TimedeltaIndex(dst_error_hours, 'h')\n"
     ]
    },
    {
     "name": "stdout",
     "output_type": "stream",
     "text": [
      "[**********************59%***                    ]  46 of 78 completed"
     ]
    },
    {
     "name": "stderr",
     "output_type": "stream",
     "text": [
      "C:\\anaconda\\lib\\site-packages\\yfinance\\utils.py:689: FutureWarning: The 'unit' keyword in TimedeltaIndex construction is deprecated and will be removed in a future version. Use pd.to_timedelta instead.\n",
      "  df.index += _pd.TimedeltaIndex(dst_error_hours, 'h')\n",
      "C:\\anaconda\\lib\\site-packages\\yfinance\\utils.py:689: FutureWarning: The 'unit' keyword in TimedeltaIndex construction is deprecated and will be removed in a future version. Use pd.to_timedelta instead.\n",
      "  df.index += _pd.TimedeltaIndex(dst_error_hours, 'h')\n",
      "C:\\anaconda\\lib\\site-packages\\yfinance\\utils.py:689: FutureWarning: The 'unit' keyword in TimedeltaIndex construction is deprecated and will be removed in a future version. Use pd.to_timedelta instead.\n",
      "  df.index += _pd.TimedeltaIndex(dst_error_hours, 'h')\n",
      "C:\\anaconda\\lib\\site-packages\\yfinance\\utils.py:689: FutureWarning: The 'unit' keyword in TimedeltaIndex construction is deprecated and will be removed in a future version. Use pd.to_timedelta instead.\n",
      "  df.index += _pd.TimedeltaIndex(dst_error_hours, 'h')\n"
     ]
    },
    {
     "name": "stdout",
     "output_type": "stream",
     "text": [
      "[**********************60%****                   ]  47 of 78 completed"
     ]
    },
    {
     "name": "stderr",
     "output_type": "stream",
     "text": [
      "C:\\anaconda\\lib\\site-packages\\yfinance\\utils.py:689: FutureWarning: The 'unit' keyword in TimedeltaIndex construction is deprecated and will be removed in a future version. Use pd.to_timedelta instead.\n",
      "  df.index += _pd.TimedeltaIndex(dst_error_hours, 'h')\n",
      "C:\\anaconda\\lib\\site-packages\\yfinance\\utils.py:689: FutureWarning: The 'unit' keyword in TimedeltaIndex construction is deprecated and will be removed in a future version. Use pd.to_timedelta instead.\n",
      "  df.index += _pd.TimedeltaIndex(dst_error_hours, 'h')\n",
      "C:\\anaconda\\lib\\site-packages\\yfinance\\utils.py:689: FutureWarning: The 'unit' keyword in TimedeltaIndex construction is deprecated and will be removed in a future version. Use pd.to_timedelta instead.\n",
      "  df.index += _pd.TimedeltaIndex(dst_error_hours, 'h')\n"
     ]
    },
    {
     "name": "stdout",
     "output_type": "stream",
     "text": [
      "[**********************65%******                 ]  51 of 78 completed"
     ]
    },
    {
     "name": "stderr",
     "output_type": "stream",
     "text": [
      "C:\\anaconda\\lib\\site-packages\\yfinance\\utils.py:689: FutureWarning: The 'unit' keyword in TimedeltaIndex construction is deprecated and will be removed in a future version. Use pd.to_timedelta instead.\n",
      "  df.index += _pd.TimedeltaIndex(dst_error_hours, 'h')\n",
      "C:\\anaconda\\lib\\site-packages\\yfinance\\utils.py:689: FutureWarning: The 'unit' keyword in TimedeltaIndex construction is deprecated and will be removed in a future version. Use pd.to_timedelta instead.\n",
      "  df.index += _pd.TimedeltaIndex(dst_error_hours, 'h')\n"
     ]
    },
    {
     "name": "stdout",
     "output_type": "stream",
     "text": [
      "[**********************68%********               ]  53 of 78 completed"
     ]
    },
    {
     "name": "stderr",
     "output_type": "stream",
     "text": [
      "C:\\anaconda\\lib\\site-packages\\yfinance\\utils.py:689: FutureWarning: The 'unit' keyword in TimedeltaIndex construction is deprecated and will be removed in a future version. Use pd.to_timedelta instead.\n",
      "  df.index += _pd.TimedeltaIndex(dst_error_hours, 'h')\n",
      "C:\\anaconda\\lib\\site-packages\\yfinance\\utils.py:689: FutureWarning: The 'unit' keyword in TimedeltaIndex construction is deprecated and will be removed in a future version. Use pd.to_timedelta instead.\n",
      "  df.index += _pd.TimedeltaIndex(dst_error_hours, 'h')\n",
      "C:\\anaconda\\lib\\site-packages\\yfinance\\utils.py:689: FutureWarning: The 'unit' keyword in TimedeltaIndex construction is deprecated and will be removed in a future version. Use pd.to_timedelta instead.\n",
      "  df.index += _pd.TimedeltaIndex(dst_error_hours, 'h')\n",
      "C:\\anaconda\\lib\\site-packages\\yfinance\\utils.py:689: FutureWarning: The 'unit' keyword in TimedeltaIndex construction is deprecated and will be removed in a future version. Use pd.to_timedelta instead.\n",
      "  df.index += _pd.TimedeltaIndex(dst_error_hours, 'h')\n"
     ]
    },
    {
     "name": "stdout",
     "output_type": "stream",
     "text": [
      "[**********************72%**********             ]  56 of 78 completed"
     ]
    },
    {
     "name": "stderr",
     "output_type": "stream",
     "text": [
      "C:\\anaconda\\lib\\site-packages\\yfinance\\utils.py:689: FutureWarning: The 'unit' keyword in TimedeltaIndex construction is deprecated and will be removed in a future version. Use pd.to_timedelta instead.\n",
      "  df.index += _pd.TimedeltaIndex(dst_error_hours, 'h')\n"
     ]
    },
    {
     "name": "stdout",
     "output_type": "stream",
     "text": [
      "[**********************77%************           ]  60 of 78 completed"
     ]
    },
    {
     "name": "stderr",
     "output_type": "stream",
     "text": [
      "C:\\anaconda\\lib\\site-packages\\yfinance\\utils.py:689: FutureWarning: The 'unit' keyword in TimedeltaIndex construction is deprecated and will be removed in a future version. Use pd.to_timedelta instead.\n",
      "  df.index += _pd.TimedeltaIndex(dst_error_hours, 'h')\n",
      "C:\\anaconda\\lib\\site-packages\\yfinance\\utils.py:689: FutureWarning: The 'unit' keyword in TimedeltaIndex construction is deprecated and will be removed in a future version. Use pd.to_timedelta instead.\n",
      "  df.index += _pd.TimedeltaIndex(dst_error_hours, 'h')\n",
      "C:\\anaconda\\lib\\site-packages\\yfinance\\utils.py:689: FutureWarning: The 'unit' keyword in TimedeltaIndex construction is deprecated and will be removed in a future version. Use pd.to_timedelta instead.\n",
      "  df.index += _pd.TimedeltaIndex(dst_error_hours, 'h')\n",
      "C:\\anaconda\\lib\\site-packages\\yfinance\\utils.py:689: FutureWarning: The 'unit' keyword in TimedeltaIndex construction is deprecated and will be removed in a future version. Use pd.to_timedelta instead.\n",
      "  df.index += _pd.TimedeltaIndex(dst_error_hours, 'h')\n"
     ]
    },
    {
     "name": "stdout",
     "output_type": "stream",
     "text": [
      "[**********************82%**************         ]  64 of 78 completed"
     ]
    },
    {
     "name": "stderr",
     "output_type": "stream",
     "text": [
      "C:\\anaconda\\lib\\site-packages\\yfinance\\utils.py:689: FutureWarning: The 'unit' keyword in TimedeltaIndex construction is deprecated and will be removed in a future version. Use pd.to_timedelta instead.\n",
      "  df.index += _pd.TimedeltaIndex(dst_error_hours, 'h')\n",
      "C:\\anaconda\\lib\\site-packages\\yfinance\\utils.py:689: FutureWarning: The 'unit' keyword in TimedeltaIndex construction is deprecated and will be removed in a future version. Use pd.to_timedelta instead.\n",
      "  df.index += _pd.TimedeltaIndex(dst_error_hours, 'h')\n",
      "C:\\anaconda\\lib\\site-packages\\yfinance\\utils.py:689: FutureWarning: The 'unit' keyword in TimedeltaIndex construction is deprecated and will be removed in a future version. Use pd.to_timedelta instead.\n",
      "  df.index += _pd.TimedeltaIndex(dst_error_hours, 'h')\n",
      "C:\\anaconda\\lib\\site-packages\\yfinance\\utils.py:689: FutureWarning: The 'unit' keyword in TimedeltaIndex construction is deprecated and will be removed in a future version. Use pd.to_timedelta instead.\n",
      "  df.index += _pd.TimedeltaIndex(dst_error_hours, 'h')\n"
     ]
    },
    {
     "name": "stdout",
     "output_type": "stream",
     "text": [
      "[**********************87%*****************      ]  68 of 78 completed"
     ]
    },
    {
     "name": "stderr",
     "output_type": "stream",
     "text": [
      "C:\\anaconda\\lib\\site-packages\\yfinance\\utils.py:689: FutureWarning: The 'unit' keyword in TimedeltaIndex construction is deprecated and will be removed in a future version. Use pd.to_timedelta instead.\n",
      "  df.index += _pd.TimedeltaIndex(dst_error_hours, 'h')\n",
      "C:\\anaconda\\lib\\site-packages\\yfinance\\utils.py:689: FutureWarning: The 'unit' keyword in TimedeltaIndex construction is deprecated and will be removed in a future version. Use pd.to_timedelta instead.\n",
      "  df.index += _pd.TimedeltaIndex(dst_error_hours, 'h')\n",
      "C:\\anaconda\\lib\\site-packages\\yfinance\\utils.py:689: FutureWarning: The 'unit' keyword in TimedeltaIndex construction is deprecated and will be removed in a future version. Use pd.to_timedelta instead.\n",
      "  df.index += _pd.TimedeltaIndex(dst_error_hours, 'h')\n",
      "C:\\anaconda\\lib\\site-packages\\yfinance\\utils.py:689: FutureWarning: The 'unit' keyword in TimedeltaIndex construction is deprecated and will be removed in a future version. Use pd.to_timedelta instead.\n",
      "  df.index += _pd.TimedeltaIndex(dst_error_hours, 'h')\n"
     ]
    },
    {
     "name": "stdout",
     "output_type": "stream",
     "text": [
      "[**********************91%*******************    ]  71 of 78 completed"
     ]
    },
    {
     "name": "stderr",
     "output_type": "stream",
     "text": [
      "C:\\anaconda\\lib\\site-packages\\yfinance\\utils.py:689: FutureWarning: The 'unit' keyword in TimedeltaIndex construction is deprecated and will be removed in a future version. Use pd.to_timedelta instead.\n",
      "  df.index += _pd.TimedeltaIndex(dst_error_hours, 'h')\n",
      "C:\\anaconda\\lib\\site-packages\\yfinance\\utils.py:689: FutureWarning: The 'unit' keyword in TimedeltaIndex construction is deprecated and will be removed in a future version. Use pd.to_timedelta instead.\n",
      "  df.index += _pd.TimedeltaIndex(dst_error_hours, 'h')\n",
      "C:\\anaconda\\lib\\site-packages\\yfinance\\utils.py:689: FutureWarning: The 'unit' keyword in TimedeltaIndex construction is deprecated and will be removed in a future version. Use pd.to_timedelta instead.\n",
      "  df.index += _pd.TimedeltaIndex(dst_error_hours, 'h')\n",
      "C:\\anaconda\\lib\\site-packages\\yfinance\\utils.py:689: FutureWarning: The 'unit' keyword in TimedeltaIndex construction is deprecated and will be removed in a future version. Use pd.to_timedelta instead.\n",
      "  df.index += _pd.TimedeltaIndex(dst_error_hours, 'h')\n"
     ]
    },
    {
     "name": "stdout",
     "output_type": "stream",
     "text": [
      "[**********************95%*********************  ]  74 of 78 completed"
     ]
    },
    {
     "name": "stderr",
     "output_type": "stream",
     "text": [
      "C:\\anaconda\\lib\\site-packages\\yfinance\\utils.py:689: FutureWarning: The 'unit' keyword in TimedeltaIndex construction is deprecated and will be removed in a future version. Use pd.to_timedelta instead.\n",
      "  df.index += _pd.TimedeltaIndex(dst_error_hours, 'h')\n",
      "C:\\anaconda\\lib\\site-packages\\yfinance\\utils.py:689: FutureWarning: The 'unit' keyword in TimedeltaIndex construction is deprecated and will be removed in a future version. Use pd.to_timedelta instead.\n",
      "  df.index += _pd.TimedeltaIndex(dst_error_hours, 'h')\n",
      "C:\\anaconda\\lib\\site-packages\\yfinance\\utils.py:689: FutureWarning: The 'unit' keyword in TimedeltaIndex construction is deprecated and will be removed in a future version. Use pd.to_timedelta instead.\n",
      "  df.index += _pd.TimedeltaIndex(dst_error_hours, 'h')\n"
     ]
    },
    {
     "name": "stdout",
     "output_type": "stream",
     "text": [
      "[*********************100%***********************]  78 of 78 completed\n"
     ]
    },
    {
     "name": "stderr",
     "output_type": "stream",
     "text": [
      "C:\\anaconda\\lib\\site-packages\\yfinance\\utils.py:689: FutureWarning: The 'unit' keyword in TimedeltaIndex construction is deprecated and will be removed in a future version. Use pd.to_timedelta instead.\n",
      "  df.index += _pd.TimedeltaIndex(dst_error_hours, 'h')\n",
      "C:\\anaconda\\lib\\site-packages\\yfinance\\utils.py:689: FutureWarning: The 'unit' keyword in TimedeltaIndex construction is deprecated and will be removed in a future version. Use pd.to_timedelta instead.\n",
      "  df.index += _pd.TimedeltaIndex(dst_error_hours, 'h')\n"
     ]
    },
    {
     "name": "stdout",
     "output_type": "stream",
     "text": [
      "                 3038.T       7685.T       7532.T       3193.T       3791.T  \\\n",
      "Date                                                                          \n",
      "2020-01-06  1852.602295  1425.288574  1767.972412  2390.182373   381.592255   \n",
      "2020-01-07  1852.602295  1513.602539  1855.936157  2365.490723   383.201416   \n",
      "2020-01-08  1840.268066  1560.212646  1836.603638  2333.884766   375.385651   \n",
      "2020-01-09  1924.140869  1528.321533  1851.103149  2352.650635   386.189758   \n",
      "2020-01-10  1963.610352  1506.243042  1867.535645  2347.712646   390.097626   \n",
      "...                 ...          ...          ...          ...          ...   \n",
      "2024-04-23  3416.000000  2735.000000  3738.507568  4070.000000  1085.379639   \n",
      "2024-04-24  3378.000000  2697.000000  3813.197998  4090.000000  1072.444458   \n",
      "2024-04-25  3391.000000  2730.000000  3706.639648  4000.000000   986.601868   \n",
      "2024-04-26  3429.000000  2759.000000  3715.602539  4005.000000   954.851868   \n",
      "2024-04-30  3425.000000  2764.000000  3710.623047  4030.000000   983.074097   \n",
      "\n",
      "                 3486.T       8934.T       3490.T       1434.T       3549.T  \\\n",
      "Date                                                                          \n",
      "2020-01-06   546.408020  1105.481934  1535.629150   477.850464  2224.846436   \n",
      "2020-01-07   545.560913  1130.380005  1535.629150   456.592163  2251.098389   \n",
      "2020-01-08   535.395264  1095.522583  1501.879028   457.516418  2241.253906   \n",
      "2020-01-09   537.936707  1106.311768  1513.790894   457.516418  2287.194824   \n",
      "2020-01-10   534.548096  1098.012329  1508.827637   462.137817  2257.661377   \n",
      "...                 ...          ...          ...          ...          ...   \n",
      "2024-04-23  2689.000000  1924.000000  2341.000000  1049.000000  2876.215576   \n",
      "2024-04-24  2730.000000  1935.000000  2378.000000  1060.000000  2881.705566   \n",
      "2024-04-25  2696.000000  1910.000000  2393.000000   995.000000  2857.250488   \n",
      "2024-04-26  2719.000000  1943.000000  2413.000000   897.000000  2904.663330   \n",
      "2024-04-30  2729.000000  1965.000000  2438.000000   941.000000  2946.586182   \n",
      "\n",
      "            ...        6016.T       6547.T       7721.T       5857.T  \\\n",
      "Date        ...                                                        \n",
      "2020-01-06  ...    646.146118  1115.721558  1062.963867  1126.809082   \n",
      "2020-01-07  ...    651.449707  1130.148926  1030.424194  1129.667847   \n",
      "2020-01-08  ...    645.262268  1101.294067  1080.137573  1144.370483   \n",
      "2020-01-09  ...    645.262268  1089.752075  1015.058167  1140.286377   \n",
      "2020-01-10  ...    640.842529  1077.248291  1008.731018  1120.682861   \n",
      "...         ...           ...          ...          ...          ...   \n",
      "2024-04-23  ...   9920.000000  2131.571533  2501.000000  1963.000000   \n",
      "2024-04-24  ...   9990.000000  2204.698975  2564.000000  1962.000000   \n",
      "2024-04-25  ...   9830.000000  2074.255127  2488.000000  1966.000000   \n",
      "2024-04-26  ...  10110.000000  2120.701172  2489.000000  2039.000000   \n",
      "2024-04-30  ...  10000.000000  2212.604736  2591.000000  2042.000000   \n",
      "\n",
      "                 7550.T       2981.T       9279.T       3034.T     7647.T  \\\n",
      "Date                                                                        \n",
      "2020-01-06  2362.208496  2563.886719   975.737305  1378.744873  26.037077   \n",
      "2020-01-07  2405.702881  2592.877686   993.918701  1410.079834  26.037077   \n",
      "2020-01-08  2392.171387  2474.195801   974.525269  1384.274536  26.037077   \n",
      "2020-01-09  2428.899414  2509.528564   976.949341  1390.725708  27.001411   \n",
      "2020-01-10  2441.464355  2504.093018   976.949341  1379.666382  27.001411   \n",
      "...                 ...          ...          ...          ...        ...   \n",
      "2024-04-23  6083.000000  2352.000000  3015.848633  1776.000000  27.000000   \n",
      "2024-04-24  6158.000000  2348.000000  3070.682373  1775.000000  26.000000   \n",
      "2024-04-25  6051.000000  2348.000000  2966.000000  1779.000000  26.000000   \n",
      "2024-04-26  6145.000000  2348.000000  2914.000000  1769.000000  27.000000   \n",
      "2024-04-30  6135.000000  2370.000000  3000.000000  1778.000000  26.000000   \n",
      "\n",
      "                 3440.T  \n",
      "Date                     \n",
      "2020-01-06   740.617188  \n",
      "2020-01-07   737.013245  \n",
      "2020-01-08   729.805298  \n",
      "2020-01-09   730.706360  \n",
      "2020-01-10   732.508301  \n",
      "...                 ...  \n",
      "2024-04-23  1038.000000  \n",
      "2024-04-24  1060.000000  \n",
      "2024-04-25  1038.000000  \n",
      "2024-04-26  1038.000000  \n",
      "2024-04-30  1058.000000  \n",
      "\n",
      "[1056 rows x 78 columns]\n"
     ]
    }
   ],
   "source": [
    "# import needed modules\n",
    "import datetime\n",
    "import yfinance as yf\n",
    "import pandas as pd\n",
    "import numpy as np\n",
    "import matplotlib.pyplot as plt\n",
    "import csv\n",
    "from matplotlib.collections import LineCollection\n",
    "\n",
    "#期間の設定\n",
    "start = datetime.date(2020,1,1)\n",
    "end = datetime.date(2024,5,1)\n",
    "\n",
    "#対象株価\n",
    "bracklist = [\"1999.T\",\"2585.T\",\"3830.T\",\"4174.T\",\"4417.T\",\"5036.T\",\"5070.T\",\"5578.T\",\"5588.T\",\"5889.T\",\"6226.T\",\"6231.T\",\"6525.T\",\"6846.T\",\"7075.T\",\"7126.T\",\"7317.T\",\"7386.T\",\"9170.T\",\"9229.T\",\"9249.T\",\"9343.T\",\"9350.T\",\"9942.T\",\"160.A\",\"177A.T\"]\n",
    "#selected_all = [\"1850.T\",\"1964.T\",\"2157.T\",\"2175.T\",\"2180.T\",\"2226.T\",\"2436.T\",\"2479.T\",\"2751.T\",\"2767.T\",\"2813.T\",\"2820.T\",\"2981.T\",\"3030.T\",\"3034.T\" ,\"3038.T\",\"3097.T\",\"3186.T\",\"3193.T\",\"3375.T\",\"3440.T\",\"3496.T\",\"3670.T\",\"3679.T\",\"3791.T\",\"3830.T\",\"3923.T\",\"3934.T\",\"3978.T\",\"3981.T\",\"3988.T\",\"4174.T\",\"4398.T\",\"4437.T\",\"4439.T\",\"4442.T\",\"4483.T\",\"4673.T\",\"4690.T\",\"4776.T\", \"4980.T\",\"5036.T\",\"5070.T\",\"5233.T\",\"5280.T\",\"5355.T\",\"5476.T\",\"5578.T\",\"5588.T\",\"5726.T\",\"5857.T\",\"5965.T\",\"6016.T\" ,\"6039.T\",\"6044.T\",\"6226.T\",\"6231.T\",\"6239.T\",\"6255.T\",\"6266.T\",\"6323.T\",\"6525.T\",\"6533.T\",\"6545.T\",\"6564.T\",\"6638.T\",\"6846.T\",\"6946.T\",\"7033.T\",\"7042.T\",\"7047.T\",\"7066.T\",\"7071.T\",\"7080.T\",\"7269.T\",\"7317.T\",\"7581.T\",\"7647.T\",\"7685.T\",\"7721.T\",\"7733.T\",\"7813.T\",\"7821.T\",\"8237.T\",\"8934.T\",\"9249.T\",\"9267.T\",\"9279.T\",\"9249.T\",\"9267.T\",\"9279.T\",\"9343.T\",\"9450.T\",\"9974.T\",\"177A.T\"]\n",
    "selected_all = [\"1434.T\",\"1850.T\",\"2157.T\",\"2180.T\",\"2226.T\",\"2436.T\",\"2585.T\",\"2767.T\",\"2981.T\",\"3030.T\",\"3034.T\" ,\"3038.T\",\"3097.T\",\"3139.T\",\"3186.T\",\"3193.T\",\"3252.T\",\"3280.T\",\"3375.T\",\"3399.T\",\"3440.T\",\"3482.T\",\"3486.T\",\"3490.T\",\"3494.T\",\"3498.T\",\"3549.T\",\"3778.T\",\"3791.T\",\"3830.T\",\"3843.T\",\"3856.T\",\"3878.T\",\"3978.T\",\"3981.T\",\"3988.T\",\"4174.T\",\"4398.T\",\"4417.T\",\"4437.T\",\"4439.T\",\"4442.T\",\"4673.T\",\"5036.T\",\"5070.T\",\"5233.T\",\"5355.T\",\"5578.T\",\"5588.T\",\"5726.T\",\"5857.T\",\"5889.T\",\"5965.T\",\"6016.T\",\"6031.T\",\"6039.T\",\"6044.T\",\"6231.T\",\"6266.T\",\"6525.T\",\"6533.T\",\"6545.T\",\"6547.T\",\"6564.T\",\"6638.T\",\"6846.T\",\"6946.T\",\"7042.T\",\"7047.T\",\"7066.T\",\"7071.T\",\"7075.T\",\"7126.T\",\"7183.T\",\"7199.T\",\"7269.T\",\"7317.T\",\"7386.T\",\"7532.T\",\"7550.T\",\"7647.T\",\"7685.T\",\"7721.T\",\"7733.T\",\"7813.T\",\"8237.T\",\"8244.T\",\"8848.T\",\"8934.T\",\"9170.T\",\"9229.T\",\"9249.T\",\"9267.T\",\"9279.T\",\"9418.T\",\"9942.T\",\"9450.T\",\"9974.T\",\"177A.T\"]\n",
    "selected = list(set(selected_all)-set(bracklist))\n",
    "data = yf.download(selected, start=start, end=end)[\"Adj Close\"]\n",
    "data = data.reindex(columns=selected)\n",
    "\n",
    "# 保存\n",
    "data.to_csv(r'C:\\Users\\shish_sf301y1\\Desktop\\修士\\高頻度\\stock_data_remake.csv')\n",
    "print(data)\n"
   ]
  },
  {
   "cell_type": "code",
   "execution_count": 9,
   "metadata": {},
   "outputs": [
    {
     "name": "stdout",
     "output_type": "stream",
     "text": [
      "                   9515\n",
      "Returns        0.298070\n",
      "Volatility     0.203575\n",
      "Sharpe Ratio   1.464183\n",
      "3038.T Weight  0.020709\n",
      "7685.T Weight  0.017757\n",
      "...                 ...\n",
      "2981.T Weight  0.004420\n",
      "9279.T Weight  0.010224\n",
      "3034.T Weight  0.006813\n",
      "7647.T Weight  0.023911\n",
      "3440.T Weight  0.012084\n",
      "\n",
      "[81 rows x 1 columns]\n",
      "            Portfolio Value\n",
      "Date                       \n",
      "2020-01-06      1157.589754\n",
      "2020-01-07      1176.565489\n",
      "2020-01-08      1163.456143\n",
      "2020-01-09      1175.122104\n",
      "2020-01-10      1177.227210\n",
      "...                     ...\n",
      "2024-04-23      2762.072363\n",
      "2024-04-24      2793.830177\n",
      "2024-04-25      2742.688459\n",
      "2024-04-26      2740.373108\n",
      "2024-04-30      2788.502341\n",
      "\n",
      "[1056 rows x 1 columns]\n"
     ]
    },
    {
     "data": {
      "image/png": "[encoded data removed]",
      "text/plain": [
       "<Figure size 576x360 with 1 Axes>"
      ]
     },
     "metadata": {},
     "output_type": "display_data"
    }
   ],
   "source": [
    "# リターン\n",
    "returns_daily = data.pct_change()\n",
    "returns_annual = returns_daily.mean() * 250\n",
    "\n",
    "# 分散\n",
    "cov_daily = returns_daily.cov()\n",
    "cov_annual = cov_daily * 250\n",
    "\n",
    "# リスト作成\n",
    "port_returns = []\n",
    "port_volatility = []\n",
    "sharpe_ratio = []\n",
    "stock_weights = []\n",
    "\n",
    "# シードの設定\n",
    "num_assets = len(selected)\n",
    "num_portfolios = 100000\n",
    "np.random.seed(777)\n",
    "\n",
    "# モンテカルロシミュレーション\n",
    "for single_portfolio in range(num_portfolios):\n",
    "   weights = np.random.random(num_assets)\n",
    "   weights /= np.sum(weights)\n",
    "   returns = np.dot(weights, returns_annual)\n",
    "   volatility = np.sqrt(np.dot(weights.T, np.dot(cov_annual, weights)))\n",
    "   sharpe = returns / volatility\n",
    "   sharpe_ratio.append(sharpe)\n",
    "   port_returns.append(returns)\n",
    "   port_volatility.append(volatility)\n",
    "   stock_weights.append(weights)\n",
    "\n",
    "# 辞書の作成\n",
    "portfolio = {'Returns': port_returns,\n",
    "            'Volatility': port_volatility,\n",
    "            'Sharpe Ratio': sharpe_ratio}\n",
    "\n",
    "# extend original dictionary to accomodate each ticker and weight in the portfolio\n",
    "for counter,symbol in enumerate(selected):\n",
    "   portfolio[symbol+' Weight'] = [Weight[counter] for Weight in stock_weights]\n",
    "\n",
    "# get better labels for desired arrangement of columns\n",
    "column_order = ['Returns', 'Volatility', 'Sharpe Ratio'] + [stock+' Weight' for stock in selected]\n",
    "\n",
    "#シャープレシオ最大のポートフォリオを選択\n",
    "df = pd.DataFrame(portfolio)\n",
    "max_sharpe = df['Sharpe Ratio'].max()\n",
    "sharpe_portfolio = df.loc[df['Sharpe Ratio'] == max_sharpe]\n",
    "print(sharpe_portfolio.T)\n",
    "sharpe_portfolioA = sharpe_portfolio.T[3:]\n",
    "# best_portfolioをデータフレームに変換\n",
    "best_portfolio = pd.DataFrame(np.dot(data, sharpe_portfolioA), index=data.index, columns=['Portfolio Value'])\n",
    "print(best_portfolio)\n",
    "\n",
    "# 保存\n",
    "best_portfolio.to_csv(r'C:\\Users\\shish_sf301y1\\Desktop\\修士\\高頻度\\best_portfolio_remake.csv')\n",
    "\n",
    "plt.style.use('seaborn-dark')\n",
    "fig = plt.figure(figsize=(8,5))\n",
    "ax = fig.add_subplot(111)\n",
    "\n",
    "ax.scatter(x=df['Volatility'], y=df['Returns'], c=df['Sharpe Ratio'],\n",
    "               cmap='YlOrBr', edgecolors='black') \n",
    "ax.scatter(x=sharpe_portfolio['Volatility'], y=sharpe_portfolio['Returns'], color='red', marker='D', s=200)\n",
    "\n",
    "ax.set_xlabel('Volatility (Std. Deviation)')\n",
    "ax.set_ylabel('Expected Returns')\n",
    "ax.grid()\n",
    "ax.set_xlim(0,0.23)\n",
    "ax.set_ylim(0,0.32)\n",
    "point2 = [0,0.298070]\n",
    "point1 = [0,0.203575]\n",
    "plt.plot(point1,point2,'red')\n",
    "ax.set_title(\"Efficient Frontier\")\n",
    "fig.savefig(r'C:\\Users\\shish_sf301y1\\Desktop\\修士\\高頻度\\写真_remake.png')\n",
    "plt.show()\n",
    "#sharpe_portfolio.to_csv(r'C:\\Users\\shish_sf301y1\\Desktop\\羽森ゼミ　後期\\portfolio_final_rate.csv')"
   ]
  }
 ],
 "metadata": {
  "interpreter": {
   "hash": "513dc2e41d739bb2c947903f3c0bbf636d03aa53ab50e61c694a27481c81805e"
  },
  "kernelspec": {
   "display_name": "Python 3.9.12 ('base')",
   "language": "python",
   "name": "python3"
  },
  "language_info": {
   "codemirror_mode": {
    "name": "ipython",
    "version": 3
   },
   "file_extension": ".py",
   "mimetype": "text/x-python",
   "name": "python",
   "nbconvert_exporter": "python",
   "pygments_lexer": "ipython3",
   "version": "3.9.12"
  },
  "orig_nbformat": 4
 },
 "nbformat": 4,
 "nbformat_minor": 2
}
